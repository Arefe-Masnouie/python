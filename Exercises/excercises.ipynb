{
 "cells": [
  {
   "cell_type": "markdown",
   "id": "9547fcbf",
   "metadata": {},
   "source": [
    "1. Formatted Twinkle Poem\n",
    "\n",
    "Write a Python program to print the following string in a specific format (see the output).\n",
    "Sample String : \"Twinkle, twinkle, little star, How I wonder what you are! Up above the world so high, Like a diamond in the sky. Twinkle, twinkle, little star, How I wonder what you are\"\n",
    "Output :\n",
    "\n",
    "Twinkle, twinkle, little star,\n",
    "\tHow I wonder what you are! \n",
    "\t\tUp above the world so high,   \t\t\n",
    "\t\tLike a diamond in the sky. \n",
    "Twinkle, twinkle, little star, \n",
    "\tHow I wonder what you are"
   ]
  },
  {
   "cell_type": "code",
   "execution_count": 1,
   "id": "a4625faf",
   "metadata": {},
   "outputs": [
    {
     "name": "stdout",
     "output_type": "stream",
     "text": [
      "Twinkle, twinkle, little star, \n",
      "\tHow I wonder what you are! \n",
      "\t\tUp above the world so high, \n",
      "\t\tLike a diamond in the sky. \n",
      "Twinkle, twinkle, little star, \n",
      "\tHow I wonder what you are!\n"
     ]
    }
   ],
   "source": [
    "print(\"Twinkle, twinkle, little star, \\n\\tHow I wonder what you are! \\n\\t\\tUp above the world so high, \\n\\t\\tLike a diamond in the sky. \\nTwinkle, twinkle, little star, \\n\\tHow I wonder what you are!\")"
   ]
  },
  {
   "cell_type": "markdown",
   "id": "85b86afe",
   "metadata": {},
   "source": [
    "2. Python Version Checker\n",
    "\n",
    "Write a Python program to find out what version of Python you are using."
   ]
  },
  {
   "cell_type": "code",
   "execution_count": 4,
   "id": "c7f38d30",
   "metadata": {},
   "outputs": [
    {
     "name": "stdout",
     "output_type": "stream",
     "text": [
      "3.8.8 (default, Apr 13 2021, 15:08:03) [MSC v.1916 64 bit (AMD64)]\n",
      "sys.version_info(major=3, minor=8, micro=8, releaselevel='final', serial=0)\n"
     ]
    }
   ],
   "source": [
    "import sys\n",
    "print(sys.version)\n",
    "print(sys.version_info)"
   ]
  },
  {
   "cell_type": "markdown",
   "id": "d4a588e3",
   "metadata": {},
   "source": [
    "3. Current DateTime Display\n",
    "\n",
    "Write a Python program to display the current date and time.\n",
    "Sample Output :\n",
    "Current date and time :\n",
    "2014-07-05 14:34:14"
   ]
  },
  {
   "cell_type": "code",
   "execution_count": null,
   "id": "4a70572b",
   "metadata": {},
   "outputs": [
    {
     "name": "stdout",
     "output_type": "stream",
     "text": [
      "Current date and time:  2025-08-03 22:22:25\n"
     ]
    }
   ],
   "source": [
    "import datetime\n",
    "now = datetime.datetime.now()\n",
    "print(\"Current date and time: \", now.strftime(\"%Y-%m-%d %H:%M:%S\")) "
   ]
  },
  {
   "cell_type": "markdown",
   "id": "2ae83112",
   "metadata": {},
   "source": [
    "4. Circle Area Calculator\n",
    "\n",
    "Write a Python program that calculates the area of a circle based on the radius entered by the user.\n",
    "Sample Output :\n",
    "r = 1.1\n",
    "Area = 3.8013271108436504"
   ]
  },
  {
   "cell_type": "code",
   "execution_count": 9,
   "id": "248f897e",
   "metadata": {},
   "outputs": [
    {
     "name": "stdout",
     "output_type": "stream",
     "text": [
      "The area of a circle with radius 1.1 is: 3.8013271108436504\n"
     ]
    }
   ],
   "source": [
    "import math\n",
    "def calculate_area(radius):\n",
    "    return math.pi * (float(radius) ** 2)\n",
    "\n",
    "r = 1.1\n",
    "area = calculate_area(r)\n",
    "print(f\"The area of a circle with radius {r} is: {area}\")"
   ]
  },
  {
   "cell_type": "markdown",
   "id": "96595965",
   "metadata": {},
   "source": [
    "5. Reverse Full Name\n",
    "\n",
    "Write a Python program that accepts the user's first and last name and prints them in reverse order with a space between them."
   ]
  },
  {
   "cell_type": "code",
   "execution_count": 10,
   "id": "2d5288ac",
   "metadata": {},
   "outputs": [
    {
     "name": "stdout",
     "output_type": "stream",
     "text": [
      "HEllo Masnouee Arefe!\n"
     ]
    }
   ],
   "source": [
    "f_name = input(\"Enter you fist name: \")\n",
    "l_name = input(\"Enter your last name: \")\n",
    "print(f\"HEllo {l_name} {f_name}!\")"
   ]
  },
  {
   "cell_type": "markdown",
   "id": "11d97615",
   "metadata": {},
   "source": [
    "6. List and Tuple Generator\n",
    "\n",
    "Write a Python program that accepts a sequence of comma-separated numbers from the user and generates a list and a tuple of those numbers.\n",
    "Sample data : 3, 5, 7, 23\n",
    "Output :\n",
    "List : ['3', ' 5', ' 7', ' 23']\n",
    "Tuple : ('3', ' 5', ' 7', ' 23')"
   ]
  },
  {
   "cell_type": "code",
   "execution_count": 1,
   "id": "2a6ab829",
   "metadata": {},
   "outputs": [
    {
     "name": "stdout",
     "output_type": "stream",
     "text": [
      "List: ['1', '2', '3', '4', '5']\n",
      "Tuple: ('1', '2', '3', '4', '5')\n"
     ]
    }
   ],
   "source": [
    "input_item = input(\"Enter an item to add to the list and tuple: \")\n",
    "lst = input_item.split(\",\")\n",
    "tpl = tuple(lst)\n",
    "print(f\"List: {lst}\")\n",
    "print(f\"Tuple: {tpl}\")"
   ]
  },
  {
   "cell_type": "markdown",
   "id": "0904db65",
   "metadata": {},
   "source": [
    "7. File Extension Extractor\n",
    "\n",
    "Write a Python program that accepts a filename from the user and prints the extension of the file.\n",
    "Sample filename : abc.java\n",
    "Output : java"
   ]
  },
  {
   "cell_type": "code",
   "execution_count": 2,
   "id": "114f01e2",
   "metadata": {},
   "outputs": [
    {
     "name": "stdout",
     "output_type": "stream",
     "text": [
      "jpg\n"
     ]
    }
   ],
   "source": [
    "file_name = input(\"Enter the file name: \")\n",
    "print(file_name.split(\".\")[-1])"
   ]
  },
  {
   "cell_type": "markdown",
   "id": "6b3d538f",
   "metadata": {},
   "source": [
    "8. First and Last Colors\n",
    "\n",
    "Write a Python program to display the first and last colors from the following list.\n",
    "color_list = [\"Red\",\"Green\",\"White\" ,\"Black\"]"
   ]
  },
  {
   "cell_type": "code",
   "execution_count": 3,
   "id": "4e503439",
   "metadata": {},
   "outputs": [
    {
     "name": "stdout",
     "output_type": "stream",
     "text": [
      "Red Black\n"
     ]
    }
   ],
   "source": [
    "color_list = [\"Red\", \"Green\",\"white\",\"Black\"]\n",
    "print(color_list[0], color_list[-1])"
   ]
  },
  {
   "cell_type": "markdown",
   "id": "64f6f2e5",
   "metadata": {},
   "source": [
    "9. Exam Schedule Formatter\n",
    "\n",
    "Write a Python program to display the examination schedule. (extract the date from exam_st_date).\n",
    "exam_st_date = (11, 12, 2014)\n",
    "Sample Output : The examination will start from : 11 / 12 / 2014"
   ]
  },
  {
   "cell_type": "code",
   "execution_count": 8,
   "id": "eee49ffd",
   "metadata": {},
   "outputs": [
    {
     "name": "stdout",
     "output_type": "stream",
     "text": [
      "The examination will start from: 11 / 12/ 2014 \n"
     ]
    }
   ],
   "source": [
    "exam_st_date = (11, 12, 2014)\n",
    "print(\"The examination will start from: %i / %i/ %i \" %exam_st_date)"
   ]
  },
  {
   "cell_type": "markdown",
   "id": "accab5ec",
   "metadata": {},
   "source": [
    "10. Number Expansion Calculator\n",
    "\n",
    "Write a Python program that accepts an integer (n) and computes the value of n+nn+nnn.\n",
    "Sample value of n is 5\n",
    "Expected Result : 615"
   ]
  },
  {
   "cell_type": "code",
   "execution_count": 13,
   "id": "fcba874f",
   "metadata": {},
   "outputs": [
    {
     "name": "stdout",
     "output_type": "stream",
     "text": [
      "615\n"
     ]
    }
   ],
   "source": [
    "num = input(\"Enter a number: \")\n",
    "print((int(num)+int((2*num))+int((3*num))))"
   ]
  },
  {
   "cell_type": "markdown",
   "id": "aaf233aa",
   "metadata": {},
   "source": [
    "11. Function Documentation Printer\n",
    "\n",
    "Write a Python program to print the documents (syntax, description etc.) of Python built-in function(s).\n",
    "Sample function : abs()\n",
    "Expected Result :\n",
    "abs(number) -> number\n",
    "Return the absolute value of the argument"
   ]
  },
  {
   "cell_type": "code",
   "execution_count": 3,
   "id": "49d3ecd2",
   "metadata": {},
   "outputs": [
    {
     "name": "stdout",
     "output_type": "stream",
     "text": [
      "abs:  Return the absolute value of the argument.\n",
      "len:  Return the number of items in a container.\n",
      "sorted:  Return a new list containing all items from the iterable in ascending order.\n",
      "\n",
      "A custom key function can be supplied to customize the sort order, and the\n",
      "reverse flag can be set to request the result in descending order.\n",
      "map:  map(func, *iterables) --> map object\n",
      "\n",
      "Make an iterator that computes the function using arguments from\n",
      "each of the iterables.  Stops when the shortest iterable is exhausted.\n",
      "filtet:  filter(function or None, iterable) --> filter object\n",
      "\n",
      "Return an iterator yielding those items of iterable for which function(item)\n",
      "is true. If function is None, return the items that are true.\n"
     ]
    }
   ],
   "source": [
    "print(\"abs: \",abs.__doc__)\n",
    "print(\"len: \",len.__doc__)\n",
    "print(\"sorted: \",sorted.__doc__)\n",
    "print(\"map: \",map.__doc__)\n",
    "print(\"filtet: \",filter.__doc__)"
   ]
  },
  {
   "cell_type": "markdown",
   "id": "3ab16c54",
   "metadata": {},
   "source": [
    "12. Monthly Calendar Display\n",
    "\n",
    "Write a Python program that prints the calendar for a given month and year.\n",
    "Note : Use 'calendar' module."
   ]
  },
  {
   "cell_type": "code",
   "execution_count": 4,
   "id": "b6f30131",
   "metadata": {},
   "outputs": [
    {
     "name": "stdout",
     "output_type": "stream",
     "text": [
      "    October 2025\n",
      "Mo Tu We Th Fr Sa Su\n",
      "       1  2  3  4  5\n",
      " 6  7  8  9 10 11 12\n",
      "13 14 15 16 17 18 19\n",
      "20 21 22 23 24 25 26\n",
      "27 28 29 30 31\n",
      "\n"
     ]
    }
   ],
   "source": [
    "import calendar\n",
    "year = int(input(\"Enter a year: \"))\n",
    "month = int(input(\"Enter a month: \"))\n",
    "print(calendar.month(year, month))"
   ]
  },
  {
   "cell_type": "markdown",
   "id": "6017ad22",
   "metadata": {},
   "source": [
    "13. Multi-line Here Document\n",
    "\n",
    "Write a Python program to print the following 'here document'.\n",
    "Sample string :\n",
    "a string that you \"don't\" have to escape\n",
    "This\n",
    "is a ....... multi-line\n",
    "heredoc string --------> example"
   ]
  },
  {
   "cell_type": "code",
   "execution_count": 7,
   "id": "47336cd1",
   "metadata": {},
   "outputs": [
    {
     "name": "stdout",
     "output_type": "stream",
     "text": [
      "a string that you dont have to escape\n",
      "This\n",
      "is a ... multi-line\n",
      "heredoc string ---------> example\n"
     ]
    }
   ],
   "source": [
    "print(\"a string that you \"\"dont\"\" have to escape\\nThis\\nis a ... multi-line\\nheredoc string ---------> example\")"
   ]
  },
  {
   "cell_type": "markdown",
   "id": "3d02f631",
   "metadata": {},
   "source": [
    "14. Days Between Dates\n",
    "\n",
    "Write a Python program to calculate the number of days between two dates.\n",
    "Sample dates : (2014, 7, 2), (2014, 7, 11)\n",
    "Expected output : 9 days"
   ]
  },
  {
   "cell_type": "code",
   "execution_count": 9,
   "id": "8924d619",
   "metadata": {},
   "outputs": [
    {
     "name": "stdout",
     "output_type": "stream",
     "text": [
      "Days between two dates:  9\n"
     ]
    }
   ],
   "source": [
    "from datetime import date\n",
    "first_date = date(2014,7,2)\n",
    "second_date = date(2014,7,11)\n",
    "day_bet = second_date - first_date\n",
    "print(\"Days between two dates: \", day_bet.days)"
   ]
  },
  {
   "cell_type": "markdown",
   "id": "a4bd9102",
   "metadata": {},
   "source": [
    "15. Sphere Volume Calculator\n",
    "\n",
    "Write a Python program to get the volume of a sphere with radius six."
   ]
  },
  {
   "cell_type": "code",
   "execution_count": 11,
   "id": "b0d02fb7",
   "metadata": {},
   "outputs": [
    {
     "name": "stdout",
     "output_type": "stream",
     "text": [
      "The volume of a sphere with radius 6 is: 904.7786842338603\n"
     ]
    }
   ],
   "source": [
    "import math\n",
    "r = 6\n",
    "def calculate_sphere_volume(radius):\n",
    "    return (4/3) * math.pi * (float(radius) ** 3)\n",
    "volume = calculate_sphere_volume(r)\n",
    "print(f\"The volume of a sphere with radius {r} is: {volume}\")"
   ]
  },
  {
   "cell_type": "markdown",
   "id": "d77e2d8e",
   "metadata": {},
   "source": [
    "16. Difference from 17\n",
    "\n",
    "Write a Python program to calculate the difference between a given number and 17. If the number is greater than 17, return twice the absolute difference."
   ]
  },
  {
   "cell_type": "code",
   "execution_count": 12,
   "id": "1f7c6f12",
   "metadata": {},
   "outputs": [
    {
     "name": "stdout",
     "output_type": "stream",
     "text": [
      "2\n"
     ]
    }
   ],
   "source": [
    "num = int(input(\"Enter a number: \"))\n",
    "if num > 17:\n",
    "    print(abs(num-17)*2)\n",
    "else:\n",
    "    print(abs(num-17))"
   ]
  },
  {
   "cell_type": "markdown",
   "id": "dbb1f362",
   "metadata": {},
   "source": [
    "17. Number Range Tester\n",
    "\n",
    "Write a Python program to test whether a number is within 100 of 1000 or 2000."
   ]
  },
  {
   "cell_type": "code",
   "execution_count": 13,
   "id": "3c0e18e8",
   "metadata": {},
   "outputs": [
    {
     "name": "stdout",
     "output_type": "stream",
     "text": [
      "Is the number 900 near 1000 or 2000? True\n"
     ]
    }
   ],
   "source": [
    "n = int(input(\"Enter a number: \"))\n",
    "def near_what(n):\n",
    "    return((abs(1000-n)<=100) or (abs(2000-n)<=100))\n",
    "\n",
    "print(f\"Is the number {n} near 1000 or 2000? {near_what(n)}\")"
   ]
  },
  {
   "cell_type": "markdown",
   "id": "d08f5a4d",
   "metadata": {},
   "source": [
    "18. Triple Sum Calculator\n",
    "\n",
    "Write a Python program to calculate the sum of three given numbers. If the values are equal, return three times their sum."
   ]
  },
  {
   "cell_type": "code",
   "execution_count": 18,
   "id": "c484ec29",
   "metadata": {},
   "outputs": [
    {
     "name": "stdout",
     "output_type": "stream",
     "text": [
      "The result of the check is: 18\n"
     ]
    }
   ],
   "source": [
    "n1 = int(input(\"Enter first number: \"))\n",
    "n2 = int(input(\"Enter second number: \"))\n",
    "n3 = int(input(\"Enter third number: \"))\n",
    "\n",
    "def check_numbers(n1, n2, n3):\n",
    "    sum = n1 + n2 + n3\n",
    "    if sum%2==0:\n",
    "        return sum*3\n",
    "    else:\n",
    "        return sum\n",
    "print(f\"The result of the check is: {check_numbers(n1, n2, n3)}\")"
   ]
  },
  {
   "cell_type": "markdown",
   "id": "d485f265",
   "metadata": {},
   "source": [
    "19. Prefix \"Is\" String Modifier\n",
    "\n",
    "Write a Python program to get a newly-generated string from a given string where \"Is\" has been added to the front. Return the string unchanged if the given string already begins with \"Is\"."
   ]
  },
  {
   "cell_type": "code",
   "execution_count": 17,
   "id": "18bf8d38",
   "metadata": {},
   "outputs": [
    {
     "name": "stdout",
     "output_type": "stream",
     "text": [
      "Is hello my name is arefe\n"
     ]
    }
   ],
   "source": [
    "sen = input(\"Enter a sentence: \")\n",
    "def adding(sen):\n",
    "    words = sen.split()\n",
    "    if words[0] == \"Is\":\n",
    "        return sen\n",
    "    else:\n",
    "        return \"Is \" + sen\n",
    "print(adding(sen))\n"
   ]
  },
  {
   "cell_type": "markdown",
   "id": "315a98c9",
   "metadata": {},
   "source": [
    "20. String Copy Generator\n",
    "\n",
    "Write a Python program that returns a string that is n (non-negative integer) copies of a given string."
   ]
  },
  {
   "cell_type": "code",
   "execution_count": 20,
   "id": "1b025f76",
   "metadata": {},
   "outputs": [
    {
     "name": "stdout",
     "output_type": "stream",
     "text": [
      "hellohellohello\n"
     ]
    }
   ],
   "source": [
    "sen = input(\"Enter a sentence: \")\n",
    "def st(sen, n):\n",
    "    result = \"\"\n",
    "    for i in range(n):\n",
    "        result += sen\n",
    "    return result\n",
    "n = int(input(\"Enter the number of times to repeat the sentence: \"))\n",
    "print(st(sen, n))\n"
   ]
  },
  {
   "cell_type": "markdown",
   "id": "d27dd781",
   "metadata": {},
   "source": [
    "21. Even or Odd Checker\n",
    "\n",
    "Write a Python program that determines whether a given number (accepted from the user) is even or odd, and prints an appropriate message to the user."
   ]
  },
  {
   "cell_type": "code",
   "execution_count": 2,
   "id": "76cf80f7",
   "metadata": {},
   "outputs": [
    {
     "name": "stdout",
     "output_type": "stream",
     "text": [
      "Even\n"
     ]
    }
   ],
   "source": [
    "n = int(input(\"Enter a numbet: \"))\n",
    "def even_checker(num):\n",
    "    if num%2==0:\n",
    "        return \"Even\"\n",
    "    else:\n",
    "        return \"odd\"\n",
    "\n",
    "print(even_checker(n))"
   ]
  },
  {
   "cell_type": "markdown",
   "id": "a14b61b3",
   "metadata": {},
   "source": [
    "22. Count 4 in List\n",
    "\n",
    "Write a Python program to count the number 4 in a given list."
   ]
  },
  {
   "cell_type": "code",
   "execution_count": 3,
   "id": "a5bbf5ca",
   "metadata": {},
   "outputs": [
    {
     "name": "stdout",
     "output_type": "stream",
     "text": [
      "3\n"
     ]
    }
   ],
   "source": [
    "given_list = [0,1,3,4,7,3,4,4,6]\n",
    "sum = 0\n",
    "for i in range(len(given_list)):\n",
    "    if given_list[i] == 4:\n",
    "        sum +=1\n",
    "print(sum)\n"
   ]
  },
  {
   "cell_type": "markdown",
   "id": "c00eecc4",
   "metadata": {},
   "source": [
    "23. String Prefix Copies\n",
    "\n",
    "Write a Python program to get n (non-negative integer) copies of the first 2 characters of a given string. Return n copies of the whole string if the length is less than 2."
   ]
  },
  {
   "cell_type": "code",
   "execution_count": 6,
   "id": "c93bbec1",
   "metadata": {},
   "outputs": [
    {
     "name": "stdout",
     "output_type": "stream",
     "text": [
      "hehehe\n"
     ]
    }
   ],
   "source": [
    "st = input(\"Enter a sentence: \")\n",
    "n = int(input(\"Enter how many copy u want: \"))\n",
    "if len(st)< 2:\n",
    "    print(n*st)\n",
    "else: \n",
    "    print(n*(st[0]+st[1]))"
   ]
  },
  {
   "cell_type": "markdown",
   "id": "bbbf7893",
   "metadata": {},
   "source": [
    "24. Vowel Tester\n",
    "\n",
    "Write a Python program to test whether a passed letter is a vowel or not."
   ]
  },
  {
   "cell_type": "code",
   "execution_count": 7,
   "id": "d63e5da0",
   "metadata": {},
   "outputs": [
    {
     "name": "stdout",
     "output_type": "stream",
     "text": [
      "True\n"
     ]
    }
   ],
   "source": [
    "def vowel(let):\n",
    "    allowed = \"aeoiu\"\n",
    "    return let in allowed\n",
    "\n",
    "letter = input(\"Enter a letter: \")\n",
    "print(vowel(letter))\n"
   ]
  },
  {
   "cell_type": "markdown",
   "id": "a7ffafd0",
   "metadata": {},
   "source": [
    "25. Value in Group Tester\n",
    "\n",
    "Write a Python program that checks whether a specified value is contained within a group of values.\n",
    "Test Data :\n",
    "3 -> [1, 5, 8, 3] : True\n",
    "-1 -> [1, 5, 8, 3] : False"
   ]
  },
  {
   "cell_type": "code",
   "execution_count": 15,
   "id": "cdd3e244",
   "metadata": {},
   "outputs": [
    {
     "name": "stdout",
     "output_type": "stream",
     "text": [
      "True\n",
      "False\n"
     ]
    }
   ],
   "source": [
    "def ingroup(groupin,n):\n",
    "    for value in groupin:\n",
    "        if n ==value:\n",
    "            return True\n",
    "    return False\n",
    "        \n",
    "print(ingroup([1,2,3,4],3))\n",
    "print(ingroup([1,2,3,4],5))"
   ]
  },
  {
   "cell_type": "markdown",
   "id": "ce7f8fee",
   "metadata": {},
   "source": [
    "26. List Histogram\n",
    "\n",
    "Write a Python program to create a histogram from a given list of integers."
   ]
  },
  {
   "cell_type": "code",
   "execution_count": 3,
   "id": "65f25b45",
   "metadata": {},
   "outputs": [
    {
     "name": "stdout",
     "output_type": "stream",
     "text": [
      "*\n",
      "**\n",
      "***\n",
      "****\n",
      "*****\n"
     ]
    }
   ],
   "source": [
    "def histogram(n):\n",
    "    for i in n:\n",
    "        output = ''\n",
    "        times = i\n",
    "    \n",
    "        while times>0:\n",
    "            output +='*'\n",
    "            times = times-1\n",
    "\n",
    "        print(output)\n",
    "\n",
    "histogram([1,2,3,4,5])"
   ]
  },
  {
   "cell_type": "markdown",
   "id": "d30d3df0",
   "metadata": {},
   "source": [
    "27. List to String Concatenator\n",
    "\n",
    "Write a Python program that concatenates all elements in a list into a string and returns it."
   ]
  },
  {
   "cell_type": "code",
   "execution_count": 5,
   "id": "cd67a670",
   "metadata": {},
   "outputs": [
    {
     "name": "stdout",
     "output_type": "stream",
     "text": [
      " 12344\n"
     ]
    }
   ],
   "source": [
    "def conct(l):\n",
    "    res =\" \"\n",
    "    for ele in l:\n",
    "        res += str(ele)\n",
    "    return res\n",
    "\n",
    "print(conct([1,2,3,4,4]))"
   ]
  },
  {
   "cell_type": "markdown",
   "id": "ebd8bb05",
   "metadata": {},
   "source": [
    "28. Even Numbers Until 237\n",
    "\n",
    "Write a Python program to print all even numbers from a given list of numbers in the same order and stop printing any after 237 in the sequence.Sample numbers list :\n",
    "\n",
    "numbers = [    \n",
    "    386, 462, 47, 418, 907, 344, 236, 375, 823, 566, 597, 978, 328, 615, 953, 345, \n",
    "    399, 162, 758, 219, 918, 237, 412, 566, 826, 248, 866, 950, 626, 949, 687, 217, \n",
    "    815, 67, 104, 58, 512, 24, 892, 894, 767, 553, 81, 379, 843, 831, 445, 742, 717, \n",
    "    958,743, 527\n",
    "    ]"
   ]
  },
  {
   "cell_type": "code",
   "execution_count": 8,
   "id": "95934ef0",
   "metadata": {},
   "outputs": [
    {
     "name": "stdout",
     "output_type": "stream",
     "text": [
      "237\n"
     ]
    },
    {
     "data": {
      "text/plain": [
       "[386, 462, 418, 344, 236, 566, 978, 328, 162, 758, 918]"
      ]
     },
     "execution_count": 8,
     "metadata": {},
     "output_type": "execute_result"
    }
   ],
   "source": [
    "numbers = [    \n",
    "    386, 462, 47, 418, 907, 344, 236, 375, 823, 566, 597, 978, 328, 615, 953, 345, \n",
    "    399, 162, 758, 219, 918, 237, 412, 566, 826, 248, 866, 950, 626, 949, 687, 217, \n",
    "    815, 67, 104, 58, 512, 24, 892, 894, 767, 553, 81, 379, 843, 831, 445, 742, 717, \n",
    "    958,743, 527\n",
    "    ]\n",
    "\n",
    "def find_even(n):\n",
    "    lr =[]\n",
    "    for i in n:\n",
    "        if (i==237):\n",
    "            print(i)\n",
    "            break\n",
    "        elif (i%2==0):\n",
    "            lr+=[i]\n",
    "    return lr\n",
    "\n",
    "find_even(numbers)"
   ]
  },
  {
   "cell_type": "markdown",
   "id": "8e9a9caa",
   "metadata": {},
   "source": [
    "29. Unique Colors Finder\n",
    "\n",
    "Write a Python program that prints out all colors from color_list_1 that are not present in color_list_2.\n",
    "Test Data :\n",
    "color_list_1 = set([\"White\", \"Black\", \"Red\"])\n",
    "color_list_2 = set([\"Red\", \"Green\"])\n",
    "Expected Output :\n",
    "{'Black', 'White'}"
   ]
  },
  {
   "cell_type": "code",
   "execution_count": 12,
   "id": "17328cf8",
   "metadata": {},
   "outputs": [
    {
     "name": "stdout",
     "output_type": "stream",
     "text": [
      "{'White', 'Black'}\n"
     ]
    }
   ],
   "source": [
    "color_list_1 = set([\"White\", \"Black\", \"Red\"])\n",
    "color_list_2 = set([\"Red\", \"Green\"])\n",
    "\n",
    "print(color_list_1.difference(color_list_2))"
   ]
  },
  {
   "cell_type": "markdown",
   "id": "df01e2d2",
   "metadata": {},
   "source": [
    "30. Triangle Area Calculator\n",
    "\n",
    "Write a Python program that will accept the base and height of a triangle and compute its area."
   ]
  },
  {
   "cell_type": "code",
   "execution_count": 14,
   "id": "746b7fef",
   "metadata": {},
   "outputs": [
    {
     "name": "stdout",
     "output_type": "stream",
     "text": [
      "6.0\n"
     ]
    }
   ],
   "source": [
    "base = int(input(\"Enter the base: \"))\n",
    "height = int(input(\"Enter the height: \"))\n",
    "\n",
    "print(base*height/2)"
   ]
  },
  {
   "cell_type": "markdown",
   "id": "de7730f7",
   "metadata": {},
   "source": [
    "31. GCD Calculator\n",
    "\n",
    "Write a Python program that computes the greatest common divisor (GCD) of two positive integers."
   ]
  },
  {
   "cell_type": "code",
   "execution_count": 6,
   "id": "20474ad4",
   "metadata": {},
   "outputs": [
    {
     "name": "stdout",
     "output_type": "stream",
     "text": [
      "6\n",
      "10\n"
     ]
    }
   ],
   "source": [
    "def gcd(x,y):\n",
    "    gcd=1\n",
    "    if x%y==0:\n",
    "        return y\n",
    "    for k in range(int(y/2),0,-1):\n",
    "        if x%k==0 and y%k==0:\n",
    "            gcd =k\n",
    "            break\n",
    "    \n",
    "    return gcd\n",
    "\n",
    "print(gcd(24,18))\n",
    "print(gcd(30,10))\n",
    "        "
   ]
  },
  {
   "cell_type": "markdown",
   "id": "94fb9cf2",
   "metadata": {},
   "source": [
    "32. LCM Calculator\n",
    "\n",
    "Write a Python program to find the least common multiple (LCM) of two positive integers."
   ]
  },
  {
   "cell_type": "code",
   "execution_count": 1,
   "id": "dee673d8",
   "metadata": {},
   "outputs": [
    {
     "name": "stdout",
     "output_type": "stream",
     "text": [
      "12\n",
      "105\n"
     ]
    }
   ],
   "source": [
    "def lcm(x,y):\n",
    "    lcm = 1\n",
    "    if x>y:\n",
    "        i =x\n",
    "    else:\n",
    "        i=y\n",
    "    \n",
    "    while True:\n",
    "        if (i%x==0) and(i%y==0):\n",
    "            lcm = i\n",
    "            break\n",
    "        i +=1\n",
    "\n",
    "    return lcm\n",
    "\n",
    "print(lcm(4,6))\n",
    "print(lcm(15,7))"
   ]
  },
  {
   "cell_type": "code",
   "execution_count": null,
   "id": "8f5bdd40",
   "metadata": {},
   "outputs": [],
   "source": []
  }
 ],
 "metadata": {
  "kernelspec": {
   "display_name": "base",
   "language": "python",
   "name": "python3"
  },
  "language_info": {
   "codemirror_mode": {
    "name": "ipython",
    "version": 3
   },
   "file_extension": ".py",
   "mimetype": "text/x-python",
   "name": "python",
   "nbconvert_exporter": "python",
   "pygments_lexer": "ipython3",
   "version": "3.8.8"
  }
 },
 "nbformat": 4,
 "nbformat_minor": 5
}
