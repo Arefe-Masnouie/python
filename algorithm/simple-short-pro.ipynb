{
 "cells": [
  {
   "cell_type": "code",
   "execution_count": 21,
   "metadata": {},
   "outputs": [
    {
     "name": "stdout",
     "output_type": "stream",
     "text": [
      " * \n",
      " *  * \n",
      " *  *  * \n",
      " *  *  *  * \n",
      " *  *  *  *  * \n"
     ]
    }
   ],
   "source": [
    "x = int(input('Enter a number:'))\n",
    "\n",
    "for i in range(x):\n",
    "    print(\" * \" * (i+1))"
   ]
  },
  {
   "cell_type": "code",
   "execution_count": 2,
   "metadata": {},
   "outputs": [
    {
     "name": "stdout",
     "output_type": "stream",
     "text": [
      " *  *  *  *  * \n",
      " *  *  *  *  * \n",
      " *  *  *  *  * \n",
      " *  *  *  *  * \n",
      " *  *  *  *  * \n"
     ]
    }
   ],
   "source": [
    "x = int(input(\"Enter a number:\"))\n",
    "line = \" * \" *x\n",
    "for i in range(1, x+1):\n",
    "    print(line)"
   ]
  },
  {
   "cell_type": "code",
   "execution_count": 5,
   "metadata": {},
   "outputs": [
    {
     "name": "stdout",
     "output_type": "stream",
     "text": [
      "     * \n",
      "    *  * \n",
      "   *  *  * \n",
      "  *  *  *  * \n",
      " *  *  *  *  * \n"
     ]
    }
   ],
   "source": [
    "x = int(input(\"Enter a number:\"))\n",
    "for i in range(x):\n",
    "    print(\" \" * (x-i-1) + \" * \" * (i+1))"
   ]
  },
  {
   "cell_type": "code",
   "execution_count": 27,
   "metadata": {},
   "outputs": [
    {
     "name": "stdout",
     "output_type": "stream",
     "text": [
      "    *\n",
      "   ***\n",
      "  *****\n",
      " *******\n",
      "*********\n"
     ]
    }
   ],
   "source": [
    "x = int(input(\"Enter a number:\"))\n",
    "for i in range(1,x+1):\n",
    "    star = \" \" * (x-i) + \"*\" * (2*i-1)\n",
    "    print(star)"
   ]
  },
  {
   "cell_type": "code",
   "execution_count": 26,
   "metadata": {},
   "outputs": [
    {
     "name": "stdout",
     "output_type": "stream",
     "text": [
      "    *\n",
      "   ***\n",
      "  *****\n",
      " *******\n",
      "*********\n",
      " *******\n",
      "  *****\n",
      "   ***\n",
      "    *\n"
     ]
    }
   ],
   "source": [
    "x = int(input(\"Enter a number:\"))\n",
    "for i in range(1,x+1):\n",
    "    star = \" \" * (x-i) + \"*\" * (2*i-1)\n",
    "    print(star)\n",
    "for i in range(1,x):\n",
    "    star = \" \" * i + \"*\" * (2*(x-i)-1)\n",
    "    print(star)"
   ]
  },
  {
   "cell_type": "code",
   "execution_count": 29,
   "metadata": {},
   "outputs": [
    {
     "name": "stdout",
     "output_type": "stream",
     "text": [
      "    *        *\n",
      "   ***      ***\n",
      "  *****    *****\n",
      " *******  *******\n",
      "******************\n",
      " *******  *******\n",
      "  *****    *****\n",
      "   ***      ***\n",
      "    *        *\n"
     ]
    }
   ],
   "source": [
    "x = int(input(\"Enter a number:\"))\n",
    "for i in range(1,x+1):\n",
    "    star = \" \" * (x-i) + \"*\" * (2*i-1) +  (2*\" \" * (x-i) + \"*\" * (2*i-1))\n",
    "    print(star)\n",
    "for i in range(1,x):\n",
    "    star = \" \" * i + \"*\" * (2*(x-i)-1) + (2*\" \" * i + \"*\" * (2*(x-i)-1))\n",
    "    print(star)"
   ]
  },
  {
   "cell_type": "code",
   "execution_count": 35,
   "metadata": {},
   "outputs": [
    {
     "name": "stdout",
     "output_type": "stream",
     "text": [
      "1  \n",
      "1 1  \n",
      "1 2 1  \n",
      "1 3 3 1  \n",
      "1 4 6 4 1  \n",
      "1 5 10 10 5 1  \n"
     ]
    }
   ],
   "source": [
    "def fact(num):\n",
    "    if num == 0:\n",
    "        return 1\n",
    "    else:\n",
    "        return num * fact(num-1)\n",
    "    \n",
    "def c(n,r):\n",
    "    return fact(n) / (fact(r) * fact(n-r))\n",
    "\n",
    "int(input(\"Enter a number:\"))\n",
    "for i in range(0,x+1):\n",
    "    for j in range(0,i+1):\n",
    "        print(int(c(i,j)), end=\" \")\n",
    "    print(\" \")\n",
    "\n"
   ]
  },
  {
   "cell_type": "code",
   "execution_count": 39,
   "metadata": {},
   "outputs": [
    {
     "name": "stdout",
     "output_type": "stream",
     "text": [
      "       1  \n",
      "      1 1  \n",
      "    1 2 1  \n",
      "   1 3 3 1  \n",
      " 1 4 6 4 1  \n",
      "1 5 10 10 5 1  \n"
     ]
    }
   ],
   "source": [
    "int(input(\"Enter a number:\"))\n",
    "for i in range(0,x+1):\n",
    "    print(3*(x-i)//2*\" \", end=\"\")\n",
    "    for j in range(0,i+1):\n",
    "        print(int(c(i,j)), end=\" \")\n",
    "    print(\" \")\n"
   ]
  }
 ],
 "metadata": {
  "kernelspec": {
   "display_name": "base",
   "language": "python",
   "name": "python3"
  },
  "language_info": {
   "codemirror_mode": {
    "name": "ipython",
    "version": 3
   },
   "file_extension": ".py",
   "mimetype": "text/x-python",
   "name": "python",
   "nbconvert_exporter": "python",
   "pygments_lexer": "ipython3",
   "version": "3.8.8"
  }
 },
 "nbformat": 4,
 "nbformat_minor": 2
}
