{
 "cells": [
  {
   "cell_type": "code",
   "execution_count": 1,
   "metadata": {},
   "outputs": [],
   "source": [
    "import numpy as np"
   ]
  },
  {
   "cell_type": "code",
   "execution_count": 2,
   "metadata": {},
   "outputs": [
    {
     "name": "stdout",
     "output_type": "stream",
     "text": [
      "100\n"
     ]
    }
   ],
   "source": [
    "first_array = np.array(100) # 0-D array\n",
    "print(first_array)"
   ]
  },
  {
   "cell_type": "code",
   "execution_count": 4,
   "metadata": {},
   "outputs": [
    {
     "name": "stdout",
     "output_type": "stream",
     "text": [
      "[1 2 3 4 5]\n"
     ]
    }
   ],
   "source": [
    "array_1d = np.array([1, 2, 3, 4, 5]) # 1-D array\n",
    "print(array_1d)"
   ]
  },
  {
   "cell_type": "code",
   "execution_count": 5,
   "metadata": {},
   "outputs": [
    {
     "name": "stdout",
     "output_type": "stream",
     "text": [
      "[[1 2 3]\n",
      " [4 5 6]]\n"
     ]
    }
   ],
   "source": [
    "array_2d = np.array([[1, 2, 3], [4, 5, 6]]) # 2-D array\n",
    "print(array_2d)"
   ]
  },
  {
   "cell_type": "code",
   "execution_count": 6,
   "metadata": {},
   "outputs": [
    {
     "name": "stdout",
     "output_type": "stream",
     "text": [
      "[[[ 1  2  3]\n",
      "  [ 4  5  6]]\n",
      "\n",
      " [[ 7  8  9]\n",
      "  [10 11 12]]]\n"
     ]
    }
   ],
   "source": [
    "array_3d = np.array([[[1, 2, 3], [4, 5, 6]], [[7, 8, 9], [10, 11, 12]]]) # 3-D array\n",
    "print(array_3d)"
   ]
  },
  {
   "cell_type": "code",
   "execution_count": 7,
   "metadata": {},
   "outputs": [
    {
     "name": "stdout",
     "output_type": "stream",
     "text": [
      "0\n",
      "1\n",
      "2\n",
      "3\n"
     ]
    }
   ],
   "source": [
    "#print dimension of every array\n",
    "print(first_array.ndim)\n",
    "print(array_1d.ndim)\n",
    "print(array_2d.ndim)\n",
    "print(array_3d.ndim)"
   ]
  },
  {
   "cell_type": "code",
   "execution_count": 8,
   "metadata": {},
   "outputs": [
    {
     "name": "stdout",
     "output_type": "stream",
     "text": [
      "[[[[[1 2 3 4]]]]]\n"
     ]
    }
   ],
   "source": [
    "#Higher Dimensional Arrays\n",
    "array_5d = np.array([1, 2, 3, 4], ndmin=5)\n",
    "print(array_5d)"
   ]
  },
  {
   "cell_type": "code",
   "execution_count": 11,
   "metadata": {},
   "outputs": [
    {
     "name": "stdout",
     "output_type": "stream",
     "text": [
      "[[0. 0. 0.]\n",
      " [0. 0. 0.]]\n"
     ]
    }
   ],
   "source": [
    "#different methods to create arrays\n",
    "#empty method\n",
    "array_empty = np.empty((2, 3)) # 2x3 empty array\n",
    "print(array_empty)"
   ]
  },
  {
   "cell_type": "code",
   "execution_count": 12,
   "metadata": {},
   "outputs": [
    {
     "name": "stdout",
     "output_type": "stream",
     "text": [
      "[[0. 0. 0.]\n",
      " [0. 0. 0.]]\n"
     ]
    }
   ],
   "source": [
    "#zero method\n",
    "array_zeros = np.zeros((2, 3)) # 2x3 array with zeros\n",
    "print(array_zeros)"
   ]
  },
  {
   "cell_type": "code",
   "execution_count": 13,
   "metadata": {},
   "outputs": [
    {
     "name": "stdout",
     "output_type": "stream",
     "text": [
      "[[1. 0. 0.]\n",
      " [0. 1. 0.]\n",
      " [0. 0. 1.]]\n"
     ]
    }
   ],
   "source": [
    "#create an eye matrix(an eye matrix is a square matrix with 1's on the main diagonal)\n",
    "array_eye = np.eye(3) # 3x3 identity matrix\n",
    "print(array_eye)"
   ]
  },
  {
   "cell_type": "code",
   "execution_count": 14,
   "metadata": {},
   "outputs": [
    {
     "name": "stdout",
     "output_type": "stream",
     "text": [
      "[[1. 1. 1.]\n",
      " [1. 1. 1.]]\n"
     ]
    }
   ],
   "source": [
    "#create an ones matrix(ones matrix is a matrix where all the values are 1)\n",
    "array_ones = np.ones((2, 3)) # 2x3 array with ones\n",
    "print(array_ones)"
   ]
  },
  {
   "cell_type": "code",
   "execution_count": 15,
   "metadata": {},
   "outputs": [
    {
     "name": "stdout",
     "output_type": "stream",
     "text": [
      "[1.   1.05 1.1  1.15 1.2  1.25 1.3  1.35 1.4  1.45 1.5  1.55 1.6  1.65\n",
      " 1.7  1.75 1.8  1.85 1.9  1.95]\n"
     ]
    }
   ],
   "source": [
    "#create an array with arrange method between 1 and 2 by step 0.05\n",
    "array_arrange = np.arange(1,2,0.05)\n",
    "print(array_arrange)"
   ]
  },
  {
   "cell_type": "code",
   "execution_count": 16,
   "metadata": {},
   "outputs": [
    {
     "name": "stdout",
     "output_type": "stream",
     "text": [
      "[1.         1.11111111 1.22222222 1.33333333 1.44444444 1.55555556\n",
      " 1.66666667 1.77777778 1.88888889 2.        ]\n"
     ]
    }
   ],
   "source": [
    "#an array with linspace method(linspace is used to create an array with a specified number of elements, and within a specified range)\n",
    "array_linspace = np.linspace(1, 2, 10) # 10 elements between 1 and 2\n",
    "print(array_linspace)"
   ]
  },
  {
   "cell_type": "code",
   "execution_count": 19,
   "metadata": {},
   "outputs": [
    {
     "name": "stdout",
     "output_type": "stream",
     "text": [
      "[[-5.        -4.8989899 -4.7979798 ...  4.7979798  4.8989899  5.       ]\n",
      " [-5.        -4.8989899 -4.7979798 ...  4.7979798  4.8989899  5.       ]\n",
      " [-5.        -4.8989899 -4.7979798 ...  4.7979798  4.8989899  5.       ]\n",
      " ...\n",
      " [-5.        -4.8989899 -4.7979798 ...  4.7979798  4.8989899  5.       ]\n",
      " [-5.        -4.8989899 -4.7979798 ...  4.7979798  4.8989899  5.       ]\n",
      " [-5.        -4.8989899 -4.7979798 ...  4.7979798  4.8989899  5.       ]]\n",
      "\n",
      "\n",
      "[[-5.        -5.        -5.        ... -5.        -5.        -5.       ]\n",
      " [-4.8989899 -4.8989899 -4.8989899 ... -4.8989899 -4.8989899 -4.8989899]\n",
      " [-4.7979798 -4.7979798 -4.7979798 ... -4.7979798 -4.7979798 -4.7979798]\n",
      " ...\n",
      " [ 4.7979798  4.7979798  4.7979798 ...  4.7979798  4.7979798  4.7979798]\n",
      " [ 4.8989899  4.8989899  4.8989899 ...  4.8989899  4.8989899  4.8989899]\n",
      " [ 5.         5.         5.        ...  5.         5.         5.       ]]\n"
     ]
    }
   ],
   "source": [
    "#Meshgrid method(creates a rectangular grid out of an array of x values and an array of y values)\n",
    "x = np.linspace(-5, 5, 100)\n",
    "y = np.linspace(-5, 5, 100)\n",
    "\n",
    "#creates a grid of x and y values\n",
    "X, Y = np.meshgrid(x, y)\n",
    "\n",
    "print(X)\n",
    "print(\"\\n\")\n",
    "print(Y)"
   ]
  },
  {
   "cell_type": "code",
   "execution_count": 20,
   "metadata": {},
   "outputs": [
    {
     "name": "stdout",
     "output_type": "stream",
     "text": [
      "[[1 0 0 0]\n",
      " [0 2 0 0]\n",
      " [0 0 3 0]\n",
      " [0 0 0 4]]\n"
     ]
    }
   ],
   "source": [
    "#create a diagonal matrix(diagonal matrix is a square matrix that has values only in the main diagonal)\n",
    "array_diag = np.diag([1, 2, 3, 4]) # diagonal matrix\n",
    "print(array_diag)"
   ]
  },
  {
   "cell_type": "code",
   "execution_count": 21,
   "metadata": {},
   "outputs": [
    {
     "name": "stdout",
     "output_type": "stream",
     "text": [
      "[[0 1 0 0 0]\n",
      " [0 0 2 0 0]\n",
      " [0 0 0 3 0]\n",
      " [0 0 0 0 4]\n",
      " [0 0 0 0 0]]\n"
     ]
    }
   ],
   "source": [
    "#create a diagonal matrix with offset(diagonal matrix with offset is a square matrix that has values only in the main diagonal and offset)\n",
    "array_diag_offset = np.diag([1, 2, 3, 4], k=1) # diagonal matrix with offset\n",
    "print(array_diag_offset)"
   ]
  },
  {
   "cell_type": "code",
   "execution_count": 22,
   "metadata": {},
   "outputs": [
    {
     "name": "stdout",
     "output_type": "stream",
     "text": [
      "[[0.659832   0.38448408 0.45932392]\n",
      " [0.10665453 0.73941345 0.75761944]]\n"
     ]
    }
   ],
   "source": [
    "#create a random matrix\n",
    "array_random = np.random.rand(2, 3) # 2x3 random matrix\n",
    "print(array_random)"
   ]
  },
  {
   "cell_type": "code",
   "execution_count": 23,
   "metadata": {},
   "outputs": [
    {
     "name": "stdout",
     "output_type": "stream",
     "text": [
      "[[ 0.31423825 -1.16831745 -0.58530079]\n",
      " [ 1.81750213  0.80054459 -0.00566925]]\n"
     ]
    }
   ],
   "source": [
    "#create a random matrix with normal distribution(mean=0, std=1)(a normal distribution is a distribution that is symmetric about the mean, showing that data near the mean are more frequent in occurrence than data far from the mean)\n",
    "array_random_normal = np.random.randn(2, 3) # 2x3 random matrix with normal distribution\n",
    "print(array_random_normal)"
   ]
  },
  {
   "cell_type": "code",
   "execution_count": 24,
   "metadata": {},
   "outputs": [
    {
     "name": "stdout",
     "output_type": "stream",
     "text": [
      "[[3 7 7]\n",
      " [2 9 3]]\n"
     ]
    }
   ],
   "source": [
    "#create a random matrix with integers\n",
    "array_random_int = np.random.randint(1, 10, (2, 3)) # 2x3 random matrix with integers between 1 and 10\n",
    "print(array_random_int)"
   ]
  },
  {
   "cell_type": "code",
   "execution_count": 25,
   "metadata": {},
   "outputs": [
    {
     "name": "stdout",
     "output_type": "stream",
     "text": [
      "[ 1  2  4  8 16]\n",
      "<class 'numpy.ndarray'>\n"
     ]
    }
   ],
   "source": [
    "#converting a list into an array\n",
    "list_exp  = [1,2,4,8,16]\n",
    "np_arr = np.array(list_exp)\n",
    "\n",
    "print(np_arr)\n",
    "print(type(np_arr))"
   ]
  },
  {
   "cell_type": "code",
   "execution_count": 26,
   "metadata": {},
   "outputs": [
    {
     "name": "stdout",
     "output_type": "stream",
     "text": [
      "[ 1  2  4  8 16]\n",
      "<class 'numpy.ndarray'>\n"
     ]
    }
   ],
   "source": [
    "#converting a tuple into an array\n",
    "tuple_exp = (1,2,4,8,16)\n",
    "np_arr = np.array(tuple_exp)\n",
    "\n",
    "print(np_arr)\n",
    "print(type(np_arr))"
   ]
  },
  {
   "cell_type": "code",
   "execution_count": 28,
   "metadata": {},
   "outputs": [
    {
     "name": "stdout",
     "output_type": "stream",
     "text": [
      "[[1 2 3]\n",
      " [4 5 6]]\n",
      "1250205327600\n",
      "1250225787984\n"
     ]
    }
   ],
   "source": [
    "#copying an array\n",
    "array_copy = np.copy(array_2d) # copy array_2d\n",
    "print(array_copy)\n",
    "\n",
    "#show memory location of each array\n",
    "print(id(array_2d))\n",
    "print(id(array_copy))"
   ]
  },
  {
   "cell_type": "code",
   "execution_count": 30,
   "metadata": {},
   "outputs": [
    {
     "name": "stdout",
     "output_type": "stream",
     "text": [
      "[[1 2 3]\n",
      " [4 5 6]]\n",
      "1250205327600\n",
      "1250225914384\n"
     ]
    }
   ],
   "source": [
    "#copying an array with view method(view method is used to create a new array object that looks at the same data)\n",
    "array_view = array_2d.view() # view array_2d\n",
    "print(array_view)\n",
    "\n",
    "#show memory location of each array\n",
    "print(id(array_2d))\n",
    "print(id(array_view))"
   ]
  },
  {
   "cell_type": "code",
   "execution_count": 31,
   "metadata": {},
   "outputs": [
    {
     "name": "stdout",
     "output_type": "stream",
     "text": [
      "[ 1  2  3  4  5  6  7  8  9 10]\n"
     ]
    }
   ],
   "source": [
    "#adding values at the end of an array \n",
    "original_arr = [1,2,3,4,5]\n",
    "append_arr = [6,7,8,9,10]   \n",
    "\n",
    "final_arr = np.append(original_arr, append_arr)\n",
    "\n",
    "print(final_arr)\n"
   ]
  },
  {
   "cell_type": "code",
   "execution_count": 33,
   "metadata": {},
   "outputs": [
    {
     "name": "stdout",
     "output_type": "stream",
     "text": [
      "[[3 2 1]\n",
      " [6 5 4]\n",
      " [9 8 7]]\n",
      "[[7 8 9]\n",
      " [4 5 6]\n",
      " [1 2 3]]\n"
     ]
    }
   ],
   "source": [
    "#swaping two columns in a 2D array\n",
    "arr = np.array([[1, 2, 3], [4, 5, 6], [7, 8, 9]])\n",
    "arr[:, [0, 2]] = arr[:, [2, 0]] # swap columns 0 and 2\n",
    "print(arr)\n",
    "\n",
    "#swaping two rows in a 2D array\n",
    "arr = np.array([[1, 2, 3], [4, 5, 6], [7, 8, 9]])\n",
    "arr[[0, 2], :] = arr[[2, 0], :] \n",
    "print(arr)"
   ]
  },
  {
   "cell_type": "code",
   "execution_count": 34,
   "metadata": {},
   "outputs": [
    {
     "name": "stdout",
     "output_type": "stream",
     "text": [
      "[[1 2 5 6]\n",
      " [3 4 7 8]]\n"
     ]
    }
   ],
   "source": [
    "#concatenating two arrays\n",
    "arr1 = np.array([[1, 2], [3, 4]])\n",
    "arr2 = np.array([[5, 6], [7, 8]])\n",
    "arr_concat = np.concatenate((arr1, arr2), axis=1)\n",
    "print(arr_concat)"
   ]
  },
  {
   "cell_type": "code",
   "execution_count": 36,
   "metadata": {},
   "outputs": [
    {
     "name": "stdout",
     "output_type": "stream",
     "text": [
      "[[1 4]\n",
      " [2 5]\n",
      " [3 6]]\n",
      "[[1 2 3]\n",
      " [4 5 6]]\n"
     ]
    }
   ],
   "source": [
    "#merging two arrays with stack\n",
    "arr1 = np.array([1, 2, 3])\n",
    "arr2 = np.array([4, 5, 6])\n",
    "arr_stack = np.stack((arr1, arr2), axis=1) #merge by columns\n",
    "arr_stack_0= np.stack((arr1, arr2), axis=0) #merge by rows\n",
    "print(arr_stack)\n",
    "print(arr_stack_0)"
   ]
  },
  {
   "cell_type": "code",
   "execution_count": 3,
   "metadata": {},
   "outputs": [
    {
     "name": "stdout",
     "output_type": "stream",
     "text": [
      "5 5\n"
     ]
    }
   ],
   "source": [
    "#define an array \n",
    "arr = np.array([[1, 2, 3], [4, 5, 6], [7, 8, 9]])\n",
    "print(arr[1][1], arr[1, 1]) # 5 5"
   ]
  },
  {
   "cell_type": "code",
   "execution_count": 4,
   "metadata": {},
   "outputs": [
    {
     "name": "stdout",
     "output_type": "stream",
     "text": [
      "True\n",
      "True\n",
      "True\n"
     ]
    }
   ],
   "source": [
    "#comparing two arrays\n",
    "arr1 = np.array([1, 2, 3])\n",
    "arr2 = np.array([1, 2, 3])\n",
    "\n",
    "print(np.array_equal(arr1, arr2)) # True #array_equal method is used to compare two arrays for equality\n",
    "print(np.array_equiv(arr1, arr2)) # True #array_equiv method is used to compare two arrays for equality within a tolerance\n",
    "print(np.allclose(arr1, arr2)) # True #allclose method is used to compare two arrays element-wise within a tolerance"
   ]
  },
  {
   "cell_type": "code",
   "execution_count": 5,
   "metadata": {},
   "outputs": [
    {
     "name": "stdout",
     "output_type": "stream",
     "text": [
      "[False False False]\n",
      "[False False False]\n",
      "[False False False]\n",
      "[ True  True  True]\n",
      "[ True  True  True]\n"
     ]
    }
   ],
   "source": [
    "#comparing two arrays\n",
    "arr1 = np.array([1, 2, 3])\n",
    "arr2 = np.array([4, 5, 6])\n",
    "arr3 = arr1 == arr2\n",
    "print(arr3) # [False False False]\n",
    "\n",
    "print(np.greater(arr1, arr2)) # [False False False] #greater method is used to compare two arrays element-wise\n",
    "print(np.greater_equal(arr1, arr2)) # [False False False] #greater_equal method is used to compare two arrays element-wise\n",
    "print(np.less(arr1, arr2)) # [True True True] #less method is used to compare two arrays element-wise\n",
    "print(np.less_equal(arr1, arr2)) # [True True True] #less_equal method is used to compare two arrays element-wise\n"
   ]
  },
  {
   "cell_type": "code",
   "execution_count": 8,
   "metadata": {},
   "outputs": [
    {
     "name": "stdout",
     "output_type": "stream",
     "text": [
      "[1 2 3 4 5 6]\n",
      "(array([1, 2, 3, 4, 5, 6]), array([6, 6, 3, 3, 4, 2], dtype=int64))\n",
      "(array([1, 2, 3, 4, 5, 6]), array([ 0,  1,  2,  6,  7, 18], dtype=int64))\n",
      "[[1 2 2 1 2 5 4 5]\n",
      " [1 2 3 1 2 3 4 5]\n",
      " [1 2 6 1 6 3 4 5]]\n",
      "[[1 2 2 3 3 4 5]\n",
      " [1 2 2 2 5 4 5]\n",
      " [1 2 6 6 3 4 5]]\n"
     ]
    }
   ],
   "source": [
    "#finding unique values in an array\n",
    "arr = np.array([[1, 2, 3, 1, 2, 3, 4, 5], [1, 2, 2, 1, 2, 5, 4, 5], [1, 2, 6, 1, 6, 3, 4, 5]])\n",
    "unique_values = np.unique(arr)\n",
    "print(unique_values) # [1 2 3 4 5 6]\n",
    "print(np.unique(arr, return_counts=True)) # (array([1, 2, 3, 4, 5, 6]), array([3, 3, 2, 2, 2, 2])) #return_counts parameter is used to return the number of times each unique value appears in the array\n",
    "print(np.unique(arr, return_index=True)) # (array([1, 2, 3, 4, 5, 6]), array([0, 1, 2, 6, 7, 10])) #return_index parameter is used to return the indices of the unique values in the original array\n",
    "print(np.unique(arr, axis=0)) #unique vectors in array in axis 0\n",
    "print(np.unique(arr, axis=1)) #unique vectors in array in axis 1"
   ]
  },
  {
   "cell_type": "code",
   "execution_count": 9,
   "metadata": {},
   "outputs": [
    {
     "name": "stdout",
     "output_type": "stream",
     "text": [
      "[1. 2. 3. 3. 4. 0. 0. 6. 4.]\n"
     ]
    }
   ],
   "source": [
    "#trim zeroes in the begining and ending in an array\n",
    "arr = np.array([0,0,1,2,3,3,4.,0,0,6,4,0,0,])\n",
    "new_arr = np.trim_zeros(arr)\n",
    "print(new_arr)"
   ]
  },
  {
   "cell_type": "code",
   "execution_count": 2,
   "metadata": {},
   "outputs": [
    {
     "name": "stdout",
     "output_type": "stream",
     "text": [
      "Bitwise And:  [1 2 2 4 8 9]\n",
      "Bitwise Or:  [ 1  2  7 20 15 29]\n",
      "Bitwise Xor:  [ 0  0  5 16  7 20]\n",
      "Bitwise not:  [ -2  -3  -4  -5 -10 -14]\n",
      "bitwise not(invert):  [ -2  -3  -4  -5 -10 -14]\n",
      "left shit array with 2bits:  [ 4  8 12 16 36 52]\n",
      "right shift arr_1 with 2 bits:  [0 0 0 1 2 3]\n"
     ]
    }
   ],
   "source": [
    "#bitwise in array\n",
    "arr_1 = np.array([1,2,3,4,9,13])\n",
    "arr_2 = np.array([1,2,6,20,14,25])\n",
    "\n",
    "print(\"Bitwise And: \", np.bitwise_and(arr_1, arr_2))\n",
    "print(\"Bitwise Or: \", np.bitwise_or(arr_1,arr_2))\n",
    "print(\"Bitwise Xor: \", np.bitwise_xor(arr_1, arr_2))\n",
    "print(\"Bitwise not: \", np.bitwise_not(arr_1, arr_2))\n",
    "print(\"bitwise not(invert): \", np.invert(arr_1,arr_2))\n",
    "print(\"left shit array with 2bits: \", np.left_shift(arr_1, 2))\n",
    "print(\"right shift arr_1 with 2 bits: \", np.right_shift(arr_1,2))"
   ]
  },
  {
   "cell_type": "code",
   "execution_count": 7,
   "metadata": {},
   "outputs": [
    {
     "name": "stdout",
     "output_type": "stream",
     "text": [
      "Sin of array:  [0.00999983 0.09983342 0.29552021 0.43496553 0.5311862  0.76432894]\n",
      "Cos of array:  [0.99995    0.99500417 0.95533649 0.9004471  0.84725511 0.64482655]\n",
      "Tan of array:  [0.01000033 0.10033467 0.30933625 0.48305507 0.62694954 1.18532486]\n",
      "Arcsin of array:  [0.01000017 0.10016742 0.30469265 0.46676534 0.5943858  1.05520232]\n",
      "Arccos of array:  [1.56079616 1.47062891 1.26610367 1.10403099 0.97641053 0.51559401]\n",
      "Arctan of array:  [0.00999967 0.09966865 0.29145679 0.42285393 0.51048832 0.71599111]\n",
      "Change radian to degree of array:  [ 0.5729578   5.72957795 17.18873385 25.78310078 32.08563653 49.84732818]\n",
      "Change degree to radian of array:  [0.00017453 0.00174533 0.00523599 0.00785398 0.00977384 0.01518436]\n"
     ]
    }
   ],
   "source": [
    "#sinus and cosinus etc\n",
    "signal_array = np.array([0.01, 0.1, 0.3, 0.45, 0.56, 0.87])\n",
    "print(\"Sin of array: \", np.sin(signal_array))\n",
    "print(\"Cos of array: \", np.cos(signal_array))\n",
    "print(\"Tan of array: \", np.tan(signal_array))\n",
    "print(\"Arcsin of array: \", np.arcsin(signal_array))\n",
    "print(\"Arccos of array: \", np.arccos(signal_array))\n",
    "print(\"Arctan of array: \", np.arctan(signal_array))\n",
    "print(\"Change radian to degree of array: \", np.rad2deg(signal_array))\n",
    "print(\"Change degree to radian of array: \", np.deg2rad(signal_array))"
   ]
  },
  {
   "cell_type": "code",
   "execution_count": 8,
   "metadata": {},
   "outputs": [
    {
     "name": "stdout",
     "output_type": "stream",
     "text": [
      "Sinh of array:  [0.01000017 0.10016675 0.30452029 0.46534202 0.58973172 0.98397965]\n",
      "Cosh of array:  [1.00005    1.00500417 1.04533851 1.10297017 1.16094078 1.4029312 ]\n",
      "Tanh of array:  [0.00999967 0.09966799 0.29131261 0.42189901 0.50797743 0.70137413]\n",
      "Arcsinh of array:  [0.00999983 0.09983408 0.29567305 0.43604967 0.53422407 0.78640118]\n",
      "Arccosh of array:  [0.         2.99322285 4.09406667 4.49968619 4.71841914 5.15902227]\n",
      "Arctanh of array:  [0.01000033 0.10033535 0.3095196  0.48470028 0.63283319 1.33307963]\n"
     ]
    }
   ],
   "source": [
    "print(\"Sinh of array: \", np.sinh(signal_array))\n",
    "print(\"Cosh of array: \", np.cosh(signal_array))\n",
    "print(\"Tanh of array: \", np.tanh(signal_array))\n",
    "print(\"Arcsinh of array: \", np.arcsinh(signal_array))\n",
    "print(\"Arccosh of array: \", np.arccosh(signal_array * 100)) # cosh is over 1 so we multiple signal_array *100\n",
    "print(\"Arctanh of array: \", np.arctanh(signal_array))"
   ]
  },
  {
   "cell_type": "code",
   "execution_count": null,
   "metadata": {},
   "outputs": [
    {
     "name": "stdout",
     "output_type": "stream",
     "text": [
      "Determinant:  -9.999999999999998\n",
      "Inverse: \n",
      " [[-1.   0.5  0. ]\n",
      " [ 2.8 -0.4 -0.6]\n",
      " [-1.2  0.1  0.4]]\n",
      "Eigen values: \n",
      " [14.24894017 -0.54252744  1.29358727]\n",
      "\n",
      "Inner product of arr_1 and arr_2:  44\n",
      "\n",
      "Inner product of arr_1 and arr_2:  44\n",
      "\n",
      "Outer product of arr_1 and arr_2: \n",
      " [[ 1  5  3  6]\n",
      " [ 2 10  6 12]\n",
      " [ 3 15  9 18]\n",
      " [ 4 20 12 24]]\n",
      "\n",
      "Result of 'a * x = b' equation:  [-2.5  9.2 -3.3]\n",
      "Norm of 'a' matrix:  14.52583904633395\n"
     ]
    }
   ],
   "source": [
    "#linear algebra in numpy\n",
    "a = np.array([[1, 2, 3], [4, 4, 6], [2, 5, 10]])\n",
    "b = np.array([6, 7, 8])\n",
    "arr_1 = [1, 2, 3, 4]\n",
    "arr_2 = [1, 5, 3, 6]\n",
    "print(\"Determinant: \", np.linalg.det(a)) #determinant of a matrix\n",
    "print(\"Inverse: \\n\", np.linalg.inv(a)) #inverse of a matrix\n",
    "print(\"Eigen values: \\n\", np.linalg.eigvals(a)) #eigen values of a matrix(eigen values are the values that scale the eigenvectors)\n",
    "print(\"\\nInner product of arr_1 and arr_2: \", np.dot(arr_1, arr_2)) #inner product of two arrays\n",
    "print(\"\\nInner product of arr_1 and arr_2: \", np.inner(arr_1, arr_2)) #inner product of two arrays\n",
    "print(\"\\nOuter product of arr_1 and arr_2: \\n\", np.outer(arr_1, arr_2)) #outer product of two arrays\n",
    "print(\"\\nResult of 'a * x = b' equation: \", np.linalg.solve(a, b)) #solve the equation 'a * x = b'\n",
    "print(\"Norm of 'a' matrix: \", np.linalg.norm(a)) #norm of a matrix(norm is a function that returns the length of a vector)\n"
   ]
  },
  {
   "cell_type": "code",
   "execution_count": 10,
   "metadata": {},
   "outputs": [
    {
     "name": "stdout",
     "output_type": "stream",
     "text": [
      "shape of array:  (3, 4)\n",
      "new shape of array: \n",
      " [[ 1  2]\n",
      " [ 3  4]\n",
      " [ 5  6]\n",
      " [ 7  8]\n",
      " [ 9 10]\n",
      " [11 12]]\n",
      "\n",
      "2-d to 3-d conversion: \n",
      " [[[ 1  2  3]\n",
      "  [ 4  5  6]]\n",
      "\n",
      " [[ 7  8  9]\n",
      "  [10 11 12]]]\n",
      "\n",
      "1-d conversion of array:  [ 1  2  3  4  5  6  7  8  9 10 11 12]\n"
     ]
    }
   ],
   "source": [
    "#reshaping an array\n",
    "array = np.array([[1, 2, 3, 4], [5, 6, 7, 8], [9, 10, 11, 12]])\n",
    "print(\"shape of array: \", array.shape)\n",
    "\n",
    "print(\"new shape of array: \\n\", array.reshape(6, 2)) # convert 3*4 array to 6*2\n",
    "print(\"\\n2-d to 3-d conversion: \\n\", array.reshape(2, 2, 3)) # convert 2-d to 3-d \n",
    "print(\"\\n1-d conversion of array: \", array.reshape(-1))"
   ]
  },
  {
   "cell_type": "code",
   "execution_count": 11,
   "metadata": {},
   "outputs": [
    {
     "name": "stdout",
     "output_type": "stream",
     "text": [
      "1\n",
      "2\n",
      "3\n",
      "4\n",
      "5\n"
     ]
    }
   ],
   "source": [
    "#iterating in array(iterating means going through elements of an array)\n",
    "my_array = np.array([1, 2, 3, 4, 5])\n",
    "for i in my_array:\n",
    "    print(i)"
   ]
  },
  {
   "cell_type": "code",
   "execution_count": 12,
   "metadata": {},
   "outputs": [
    {
     "name": "stdout",
     "output_type": "stream",
     "text": [
      "1\n",
      "2\n",
      "3\n",
      "4\n",
      "5\n",
      "6\n",
      "[1 2 3]\n",
      "[4 5 6]\n"
     ]
    }
   ],
   "source": [
    "#iterating in 2D array\n",
    "my_array = np.array([[1, 2, 3], [4, 5, 6]])\n",
    "#print elements\n",
    "for i in my_array:\n",
    "    for j in i:\n",
    "        print(j) \n",
    "\n",
    "#print rows\n",
    "for i in my_array:\n",
    "    print(i)"
   ]
  },
  {
   "cell_type": "code",
   "execution_count": 13,
   "metadata": {},
   "outputs": [
    {
     "name": "stdout",
     "output_type": "stream",
     "text": [
      "(array([0, 2, 3, 4, 5, 6, 7], dtype=int64),)\n",
      "(array([3], dtype=int64),)\n"
     ]
    }
   ],
   "source": [
    "#searching in an array\n",
    "my_array = np.array([20, 15, 17, 18, 19, 18.5, 17.5, 16, 13, 12, 11])\n",
    "val_list = np.where(my_array > 15) # elements that are bigger than 15\n",
    "val_list_1 = np.where(my_array == 18) # elements that are equal to 18\n",
    "print(val_list)\n",
    "print(val_list_1)"
   ]
  },
  {
   "cell_type": "code",
   "execution_count": 14,
   "metadata": {},
   "outputs": [
    {
     "name": "stdout",
     "output_type": "stream",
     "text": [
      "[1 2 3 4 6 7 8] \n",
      "\n",
      "[[1 2 3 5]\n",
      " [4 5 6 8]]\n"
     ]
    }
   ],
   "source": [
    "#soring in array\n",
    "my_array = np.array([2, 1, 8, 6, 3, 7, 4])\n",
    "sorted_array = np.sort(my_array) # sort array\n",
    "print(sorted_array, '\\n')\n",
    "\n",
    "my_array_1 = np.array([[3, 2, 1, 5], [6, 4, 5, 8]]) # sort 2-d array\n",
    "print(np.sort(my_array_1))"
   ]
  },
  {
   "cell_type": "code",
   "execution_count": 16,
   "metadata": {},
   "outputs": [
    {
     "name": "stdout",
     "output_type": "stream",
     "text": [
      "[16 20 18 19]\n",
      "[16 20 18 19]\n"
     ]
    }
   ],
   "source": [
    "#filtering arrays\n",
    "my_array = np.array([10, 15, 16, 20, 18, 19])\n",
    "\n",
    "# first solution\n",
    "filter_ = [False, False, True, True, True, True]\n",
    "filtered_array = my_array[filter_]\n",
    "print(filtered_array)\n",
    "\n",
    "# second solution\n",
    "filter_ = []\n",
    "for i in my_array:\n",
    "    if (i > 15):\n",
    "        filter_.append(True)\n",
    "    else:\n",
    "        filter_.append(False)\n",
    "\n",
    "filtered_array = my_array[filter_]\n",
    "print(filtered_array)"
   ]
  }
 ],
 "metadata": {
  "kernelspec": {
   "display_name": "base",
   "language": "python",
   "name": "python3"
  },
  "language_info": {
   "codemirror_mode": {
    "name": "ipython",
    "version": 3
   },
   "file_extension": ".py",
   "mimetype": "text/x-python",
   "name": "python",
   "nbconvert_exporter": "python",
   "pygments_lexer": "ipython3",
   "version": "3.8.8"
  }
 },
 "nbformat": 4,
 "nbformat_minor": 2
}
