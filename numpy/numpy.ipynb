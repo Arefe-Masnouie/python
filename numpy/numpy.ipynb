{
 "cells": [
  {
   "cell_type": "code",
   "execution_count": 1,
   "metadata": {},
   "outputs": [],
   "source": [
    "import numpy as np"
   ]
  },
  {
   "cell_type": "code",
   "execution_count": 2,
   "metadata": {},
   "outputs": [
    {
     "name": "stdout",
     "output_type": "stream",
     "text": [
      "100\n"
     ]
    }
   ],
   "source": [
    "first_array = np.array(100) # 0-D array\n",
    "print(first_array)"
   ]
  },
  {
   "cell_type": "code",
   "execution_count": 4,
   "metadata": {},
   "outputs": [
    {
     "name": "stdout",
     "output_type": "stream",
     "text": [
      "[1 2 3 4 5]\n"
     ]
    }
   ],
   "source": [
    "array_1d = np.array([1, 2, 3, 4, 5]) # 1-D array\n",
    "print(array_1d)"
   ]
  },
  {
   "cell_type": "code",
   "execution_count": 5,
   "metadata": {},
   "outputs": [
    {
     "name": "stdout",
     "output_type": "stream",
     "text": [
      "[[1 2 3]\n",
      " [4 5 6]]\n"
     ]
    }
   ],
   "source": [
    "array_2d = np.array([[1, 2, 3], [4, 5, 6]]) # 2-D array\n",
    "print(array_2d)"
   ]
  },
  {
   "cell_type": "code",
   "execution_count": 6,
   "metadata": {},
   "outputs": [
    {
     "name": "stdout",
     "output_type": "stream",
     "text": [
      "[[[ 1  2  3]\n",
      "  [ 4  5  6]]\n",
      "\n",
      " [[ 7  8  9]\n",
      "  [10 11 12]]]\n"
     ]
    }
   ],
   "source": [
    "array_3d = np.array([[[1, 2, 3], [4, 5, 6]], [[7, 8, 9], [10, 11, 12]]]) # 3-D array\n",
    "print(array_3d)"
   ]
  },
  {
   "cell_type": "code",
   "execution_count": 7,
   "metadata": {},
   "outputs": [
    {
     "name": "stdout",
     "output_type": "stream",
     "text": [
      "0\n",
      "1\n",
      "2\n",
      "3\n"
     ]
    }
   ],
   "source": [
    "#print dimension of every array\n",
    "print(first_array.ndim)\n",
    "print(array_1d.ndim)\n",
    "print(array_2d.ndim)\n",
    "print(array_3d.ndim)"
   ]
  },
  {
   "cell_type": "code",
   "execution_count": 8,
   "metadata": {},
   "outputs": [
    {
     "name": "stdout",
     "output_type": "stream",
     "text": [
      "[[[[[1 2 3 4]]]]]\n"
     ]
    }
   ],
   "source": [
    "#Higher Dimensional Arrays\n",
    "array_5d = np.array([1, 2, 3, 4], ndmin=5)\n",
    "print(array_5d)"
   ]
  },
  {
   "cell_type": "code",
   "execution_count": 11,
   "metadata": {},
   "outputs": [
    {
     "name": "stdout",
     "output_type": "stream",
     "text": [
      "[[0. 0. 0.]\n",
      " [0. 0. 0.]]\n"
     ]
    }
   ],
   "source": [
    "#different methods to create arrays\n",
    "#empty method\n",
    "array_empty = np.empty((2, 3)) # 2x3 empty array\n",
    "print(array_empty)"
   ]
  },
  {
   "cell_type": "code",
   "execution_count": 12,
   "metadata": {},
   "outputs": [
    {
     "name": "stdout",
     "output_type": "stream",
     "text": [
      "[[0. 0. 0.]\n",
      " [0. 0. 0.]]\n"
     ]
    }
   ],
   "source": [
    "#zero method\n",
    "array_zeros = np.zeros((2, 3)) # 2x3 array with zeros\n",
    "print(array_zeros)"
   ]
  },
  {
   "cell_type": "code",
   "execution_count": 13,
   "metadata": {},
   "outputs": [
    {
     "name": "stdout",
     "output_type": "stream",
     "text": [
      "[[1. 0. 0.]\n",
      " [0. 1. 0.]\n",
      " [0. 0. 1.]]\n"
     ]
    }
   ],
   "source": [
    "#create an eye matrix(an eye matrix is a square matrix with 1's on the main diagonal)\n",
    "array_eye = np.eye(3) # 3x3 identity matrix\n",
    "print(array_eye)"
   ]
  },
  {
   "cell_type": "code",
   "execution_count": 14,
   "metadata": {},
   "outputs": [
    {
     "name": "stdout",
     "output_type": "stream",
     "text": [
      "[[1. 1. 1.]\n",
      " [1. 1. 1.]]\n"
     ]
    }
   ],
   "source": [
    "#create an ones matrix(ones matrix is a matrix where all the values are 1)\n",
    "array_ones = np.ones((2, 3)) # 2x3 array with ones\n",
    "print(array_ones)"
   ]
  },
  {
   "cell_type": "code",
   "execution_count": 15,
   "metadata": {},
   "outputs": [
    {
     "name": "stdout",
     "output_type": "stream",
     "text": [
      "[1.   1.05 1.1  1.15 1.2  1.25 1.3  1.35 1.4  1.45 1.5  1.55 1.6  1.65\n",
      " 1.7  1.75 1.8  1.85 1.9  1.95]\n"
     ]
    }
   ],
   "source": [
    "#create an array with arrange method between 1 and 2 by step 0.05\n",
    "array_arrange = np.arange(1,2,0.05)\n",
    "print(array_arrange)"
   ]
  },
  {
   "cell_type": "code",
   "execution_count": 16,
   "metadata": {},
   "outputs": [
    {
     "name": "stdout",
     "output_type": "stream",
     "text": [
      "[1.         1.11111111 1.22222222 1.33333333 1.44444444 1.55555556\n",
      " 1.66666667 1.77777778 1.88888889 2.        ]\n"
     ]
    }
   ],
   "source": [
    "#an array with linspace method(linspace is used to create an array with a specified number of elements, and within a specified range)\n",
    "array_linspace = np.linspace(1, 2, 10) # 10 elements between 1 and 2\n",
    "print(array_linspace)"
   ]
  },
  {
   "cell_type": "code",
   "execution_count": 19,
   "metadata": {},
   "outputs": [
    {
     "name": "stdout",
     "output_type": "stream",
     "text": [
      "[[-5.        -4.8989899 -4.7979798 ...  4.7979798  4.8989899  5.       ]\n",
      " [-5.        -4.8989899 -4.7979798 ...  4.7979798  4.8989899  5.       ]\n",
      " [-5.        -4.8989899 -4.7979798 ...  4.7979798  4.8989899  5.       ]\n",
      " ...\n",
      " [-5.        -4.8989899 -4.7979798 ...  4.7979798  4.8989899  5.       ]\n",
      " [-5.        -4.8989899 -4.7979798 ...  4.7979798  4.8989899  5.       ]\n",
      " [-5.        -4.8989899 -4.7979798 ...  4.7979798  4.8989899  5.       ]]\n",
      "\n",
      "\n",
      "[[-5.        -5.        -5.        ... -5.        -5.        -5.       ]\n",
      " [-4.8989899 -4.8989899 -4.8989899 ... -4.8989899 -4.8989899 -4.8989899]\n",
      " [-4.7979798 -4.7979798 -4.7979798 ... -4.7979798 -4.7979798 -4.7979798]\n",
      " ...\n",
      " [ 4.7979798  4.7979798  4.7979798 ...  4.7979798  4.7979798  4.7979798]\n",
      " [ 4.8989899  4.8989899  4.8989899 ...  4.8989899  4.8989899  4.8989899]\n",
      " [ 5.         5.         5.        ...  5.         5.         5.       ]]\n"
     ]
    }
   ],
   "source": [
    "#Meshgrid method(creates a rectangular grid out of an array of x values and an array of y values)\n",
    "x = np.linspace(-5, 5, 100)\n",
    "y = np.linspace(-5, 5, 100)\n",
    "\n",
    "#creates a grid of x and y values\n",
    "X, Y = np.meshgrid(x, y)\n",
    "\n",
    "print(X)\n",
    "print(\"\\n\")\n",
    "print(Y)"
   ]
  },
  {
   "cell_type": "code",
   "execution_count": 20,
   "metadata": {},
   "outputs": [
    {
     "name": "stdout",
     "output_type": "stream",
     "text": [
      "[[1 0 0 0]\n",
      " [0 2 0 0]\n",
      " [0 0 3 0]\n",
      " [0 0 0 4]]\n"
     ]
    }
   ],
   "source": [
    "#create a diagonal matrix(diagonal matrix is a square matrix that has values only in the main diagonal)\n",
    "array_diag = np.diag([1, 2, 3, 4]) # diagonal matrix\n",
    "print(array_diag)"
   ]
  },
  {
   "cell_type": "code",
   "execution_count": 21,
   "metadata": {},
   "outputs": [
    {
     "name": "stdout",
     "output_type": "stream",
     "text": [
      "[[0 1 0 0 0]\n",
      " [0 0 2 0 0]\n",
      " [0 0 0 3 0]\n",
      " [0 0 0 0 4]\n",
      " [0 0 0 0 0]]\n"
     ]
    }
   ],
   "source": [
    "#create a diagonal matrix with offset(diagonal matrix with offset is a square matrix that has values only in the main diagonal and offset)\n",
    "array_diag_offset = np.diag([1, 2, 3, 4], k=1) # diagonal matrix with offset\n",
    "print(array_diag_offset)"
   ]
  },
  {
   "cell_type": "code",
   "execution_count": 22,
   "metadata": {},
   "outputs": [
    {
     "name": "stdout",
     "output_type": "stream",
     "text": [
      "[[0.659832   0.38448408 0.45932392]\n",
      " [0.10665453 0.73941345 0.75761944]]\n"
     ]
    }
   ],
   "source": [
    "#create a random matrix\n",
    "array_random = np.random.rand(2, 3) # 2x3 random matrix\n",
    "print(array_random)"
   ]
  },
  {
   "cell_type": "code",
   "execution_count": 23,
   "metadata": {},
   "outputs": [
    {
     "name": "stdout",
     "output_type": "stream",
     "text": [
      "[[ 0.31423825 -1.16831745 -0.58530079]\n",
      " [ 1.81750213  0.80054459 -0.00566925]]\n"
     ]
    }
   ],
   "source": [
    "#create a random matrix with normal distribution(mean=0, std=1)(a normal distribution is a distribution that is symmetric about the mean, showing that data near the mean are more frequent in occurrence than data far from the mean)\n",
    "array_random_normal = np.random.randn(2, 3) # 2x3 random matrix with normal distribution\n",
    "print(array_random_normal)"
   ]
  },
  {
   "cell_type": "code",
   "execution_count": 24,
   "metadata": {},
   "outputs": [
    {
     "name": "stdout",
     "output_type": "stream",
     "text": [
      "[[3 7 7]\n",
      " [2 9 3]]\n"
     ]
    }
   ],
   "source": [
    "#create a random matrix with integers\n",
    "array_random_int = np.random.randint(1, 10, (2, 3)) # 2x3 random matrix with integers between 1 and 10\n",
    "print(array_random_int)"
   ]
  },
  {
   "cell_type": "code",
   "execution_count": 25,
   "metadata": {},
   "outputs": [
    {
     "name": "stdout",
     "output_type": "stream",
     "text": [
      "[ 1  2  4  8 16]\n",
      "<class 'numpy.ndarray'>\n"
     ]
    }
   ],
   "source": [
    "#converting a list into an array\n",
    "list_exp  = [1,2,4,8,16]\n",
    "np_arr = np.array(list_exp)\n",
    "\n",
    "print(np_arr)\n",
    "print(type(np_arr))"
   ]
  },
  {
   "cell_type": "code",
   "execution_count": 26,
   "metadata": {},
   "outputs": [
    {
     "name": "stdout",
     "output_type": "stream",
     "text": [
      "[ 1  2  4  8 16]\n",
      "<class 'numpy.ndarray'>\n"
     ]
    }
   ],
   "source": [
    "#converting a tuple into an array\n",
    "tuple_exp = (1,2,4,8,16)\n",
    "np_arr = np.array(tuple_exp)\n",
    "\n",
    "print(np_arr)\n",
    "print(type(np_arr))"
   ]
  },
  {
   "cell_type": "code",
   "execution_count": 28,
   "metadata": {},
   "outputs": [
    {
     "name": "stdout",
     "output_type": "stream",
     "text": [
      "[[1 2 3]\n",
      " [4 5 6]]\n",
      "1250205327600\n",
      "1250225787984\n"
     ]
    }
   ],
   "source": [
    "#copying an array\n",
    "array_copy = np.copy(array_2d) # copy array_2d\n",
    "print(array_copy)\n",
    "\n",
    "#show memory location of each array\n",
    "print(id(array_2d))\n",
    "print(id(array_copy))"
   ]
  },
  {
   "cell_type": "code",
   "execution_count": 30,
   "metadata": {},
   "outputs": [
    {
     "name": "stdout",
     "output_type": "stream",
     "text": [
      "[[1 2 3]\n",
      " [4 5 6]]\n",
      "1250205327600\n",
      "1250225914384\n"
     ]
    }
   ],
   "source": [
    "#copying an array with view method(view method is used to create a new array object that looks at the same data)\n",
    "array_view = array_2d.view() # view array_2d\n",
    "print(array_view)\n",
    "\n",
    "#show memory location of each array\n",
    "print(id(array_2d))\n",
    "print(id(array_view))"
   ]
  },
  {
   "cell_type": "code",
   "execution_count": 31,
   "metadata": {},
   "outputs": [
    {
     "name": "stdout",
     "output_type": "stream",
     "text": [
      "[ 1  2  3  4  5  6  7  8  9 10]\n"
     ]
    }
   ],
   "source": [
    "#adding values at the end of an array \n",
    "original_arr = [1,2,3,4,5]\n",
    "append_arr = [6,7,8,9,10]   \n",
    "\n",
    "final_arr = np.append(original_arr, append_arr)\n",
    "\n",
    "print(final_arr)\n"
   ]
  },
  {
   "cell_type": "code",
   "execution_count": 33,
   "metadata": {},
   "outputs": [
    {
     "name": "stdout",
     "output_type": "stream",
     "text": [
      "[[3 2 1]\n",
      " [6 5 4]\n",
      " [9 8 7]]\n",
      "[[7 8 9]\n",
      " [4 5 6]\n",
      " [1 2 3]]\n"
     ]
    }
   ],
   "source": [
    "#swaping two columns in a 2D array\n",
    "arr = np.array([[1, 2, 3], [4, 5, 6], [7, 8, 9]])\n",
    "arr[:, [0, 2]] = arr[:, [2, 0]] # swap columns 0 and 2\n",
    "print(arr)\n",
    "\n",
    "#swaping two rows in a 2D array\n",
    "arr = np.array([[1, 2, 3], [4, 5, 6], [7, 8, 9]])\n",
    "arr[[0, 2], :] = arr[[2, 0], :] \n",
    "print(arr)"
   ]
  },
  {
   "cell_type": "code",
   "execution_count": 34,
   "metadata": {},
   "outputs": [
    {
     "name": "stdout",
     "output_type": "stream",
     "text": [
      "[[1 2 5 6]\n",
      " [3 4 7 8]]\n"
     ]
    }
   ],
   "source": [
    "#concatenating two arrays\n",
    "arr1 = np.array([[1, 2], [3, 4]])\n",
    "arr2 = np.array([[5, 6], [7, 8]])\n",
    "arr_concat = np.concatenate((arr1, arr2), axis=1)\n",
    "print(arr_concat)"
   ]
  },
  {
   "cell_type": "code",
   "execution_count": 36,
   "metadata": {},
   "outputs": [
    {
     "name": "stdout",
     "output_type": "stream",
     "text": [
      "[[1 4]\n",
      " [2 5]\n",
      " [3 6]]\n",
      "[[1 2 3]\n",
      " [4 5 6]]\n"
     ]
    }
   ],
   "source": [
    "#merging two arrays with stack\n",
    "arr1 = np.array([1, 2, 3])\n",
    "arr2 = np.array([4, 5, 6])\n",
    "arr_stack = np.stack((arr1, arr2), axis=1) #merge by columns\n",
    "arr_stack_0= np.stack((arr1, arr2), axis=0) #merge by rows\n",
    "print(arr_stack)\n",
    "print(arr_stack_0)"
   ]
  },
  {
   "cell_type": "code",
   "execution_count": 3,
   "metadata": {},
   "outputs": [
    {
     "name": "stdout",
     "output_type": "stream",
     "text": [
      "5 5\n"
     ]
    }
   ],
   "source": [
    "#define an array \n",
    "arr = np.array([[1, 2, 3], [4, 5, 6], [7, 8, 9]])\n",
    "print(arr[1][1], arr[1, 1]) # 5 5"
   ]
  },
  {
   "cell_type": "code",
   "execution_count": 4,
   "metadata": {},
   "outputs": [
    {
     "name": "stdout",
     "output_type": "stream",
     "text": [
      "True\n",
      "True\n",
      "True\n"
     ]
    }
   ],
   "source": [
    "#comparing two arrays\n",
    "arr1 = np.array([1, 2, 3])\n",
    "arr2 = np.array([1, 2, 3])\n",
    "\n",
    "print(np.array_equal(arr1, arr2)) # True #array_equal method is used to compare two arrays for equality\n",
    "print(np.array_equiv(arr1, arr2)) # True #array_equiv method is used to compare two arrays for equality within a tolerance\n",
    "print(np.allclose(arr1, arr2)) # True #allclose method is used to compare two arrays element-wise within a tolerance"
   ]
  },
  {
   "cell_type": "code",
   "execution_count": 5,
   "metadata": {},
   "outputs": [
    {
     "name": "stdout",
     "output_type": "stream",
     "text": [
      "[False False False]\n",
      "[False False False]\n",
      "[False False False]\n",
      "[ True  True  True]\n",
      "[ True  True  True]\n"
     ]
    }
   ],
   "source": [
    "#comparing two arrays\n",
    "arr1 = np.array([1, 2, 3])\n",
    "arr2 = np.array([4, 5, 6])\n",
    "arr3 = arr1 == arr2\n",
    "print(arr3) # [False False False]\n",
    "\n",
    "print(np.greater(arr1, arr2)) # [False False False] #greater method is used to compare two arrays element-wise\n",
    "print(np.greater_equal(arr1, arr2)) # [False False False] #greater_equal method is used to compare two arrays element-wise\n",
    "print(np.less(arr1, arr2)) # [True True True] #less method is used to compare two arrays element-wise\n",
    "print(np.less_equal(arr1, arr2)) # [True True True] #less_equal method is used to compare two arrays element-wise\n"
   ]
  },
  {
   "cell_type": "code",
   "execution_count": 8,
   "metadata": {},
   "outputs": [
    {
     "name": "stdout",
     "output_type": "stream",
     "text": [
      "[1 2 3 4 5 6]\n",
      "(array([1, 2, 3, 4, 5, 6]), array([6, 6, 3, 3, 4, 2], dtype=int64))\n",
      "(array([1, 2, 3, 4, 5, 6]), array([ 0,  1,  2,  6,  7, 18], dtype=int64))\n",
      "[[1 2 2 1 2 5 4 5]\n",
      " [1 2 3 1 2 3 4 5]\n",
      " [1 2 6 1 6 3 4 5]]\n",
      "[[1 2 2 3 3 4 5]\n",
      " [1 2 2 2 5 4 5]\n",
      " [1 2 6 6 3 4 5]]\n"
     ]
    }
   ],
   "source": [
    "#finding unique values in an array\n",
    "arr = np.array([[1, 2, 3, 1, 2, 3, 4, 5], [1, 2, 2, 1, 2, 5, 4, 5], [1, 2, 6, 1, 6, 3, 4, 5]])\n",
    "unique_values = np.unique(arr)\n",
    "print(unique_values) # [1 2 3 4 5 6]\n",
    "print(np.unique(arr, return_counts=True)) # (array([1, 2, 3, 4, 5, 6]), array([3, 3, 2, 2, 2, 2])) #return_counts parameter is used to return the number of times each unique value appears in the array\n",
    "print(np.unique(arr, return_index=True)) # (array([1, 2, 3, 4, 5, 6]), array([0, 1, 2, 6, 7, 10])) #return_index parameter is used to return the indices of the unique values in the original array\n",
    "print(np.unique(arr, axis=0)) #unique vectors in array in axis 0\n",
    "print(np.unique(arr, axis=1)) #unique vectors in array in axis 1"
   ]
  },
  {
   "cell_type": "code",
   "execution_count": 9,
   "metadata": {},
   "outputs": [
    {
     "name": "stdout",
     "output_type": "stream",
     "text": [
      "[1. 2. 3. 3. 4. 0. 0. 6. 4.]\n"
     ]
    }
   ],
   "source": [
    "#trim zeroes in the begining and ending in an array\n",
    "arr = np.array([0,0,1,2,3,3,4.,0,0,6,4,0,0,])\n",
    "new_arr = np.trim_zeros(arr)\n",
    "print(new_arr)"
   ]
  },
  {
   "cell_type": "code",
   "execution_count": 12,
   "metadata": {},
   "outputs": [
    {
     "name": "stdout",
     "output_type": "stream",
     "text": [
      "Bitwise And:  [1 2 2 4 8 9]\n",
      "Bitwise Or:  [ 1  2  7 20 15 29]\n",
      "Bitwise Xor:  [ 0  0  5 16  7 20]\n",
      "Bitwise not:  [ -2  -3  -4  -5 -10 -14]\n",
      "bitwise not(invert):  [ -2  -3  -4  -5 -10 -14]\n",
      "left shit array with 2bits:  [ 4  8 12 16 36 52]\n",
      "right shift arr_1 with 2 bits:  [0 0 0 1 2 3]\n"
     ]
    }
   ],
   "source": [
    "#bitwise in array\n",
    "arr_1 = np.array([1,2,3,4,9,13])\n",
    "arr_2 = np.array([1,2,6,20,14,25])\n",
    "\n",
    "print(\"Bitwise And: \", np.bitwise_and(arr_1, arr_2))\n",
    "print(\"Bitwise Or: \", np.bitwise_or(arr_1,arr_2))\n",
    "print(\"Bitwise Xor: \", np.bitwise_xor(arr_1, arr_2))\n",
    "print(\"Bitwise not: \", np.bitwise_not(arr_1, arr_2))\n",
    "print(\"bitwise not(invert): \", np.invert(arr_1,arr_2))\n",
    "print(\"left shit array with 2bits: \", np.left_shift(arr_1, 2))\n",
    "print(\"right shift arr_1 with 2 bits: \", np.right_shift(arr_1,2))"
   ]
  }
 ],
 "metadata": {
  "kernelspec": {
   "display_name": "base",
   "language": "python",
   "name": "python3"
  },
  "language_info": {
   "codemirror_mode": {
    "name": "ipython",
    "version": 3
   },
   "file_extension": ".py",
   "mimetype": "text/x-python",
   "name": "python",
   "nbconvert_exporter": "python",
   "pygments_lexer": "ipython3",
   "version": "3.8.8"
  }
 },
 "nbformat": 4,
 "nbformat_minor": 2
}
