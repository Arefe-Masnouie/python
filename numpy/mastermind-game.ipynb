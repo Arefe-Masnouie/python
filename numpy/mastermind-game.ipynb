{
 "cells": [
  {
   "cell_type": "code",
   "execution_count": 1,
   "metadata": {},
   "outputs": [
    {
     "name": "stdout",
     "output_type": "stream",
     "text": [
      "Welcome to the game of Mastermind!\n",
      " Guess the password to win the game\n",
      " The password is a 4 digit number\n",
      " The numbers are from 1 to 9\n",
      " You have 10 chances to guess the password\n",
      " After each guess you will be given hints\n",
      " The hints are as follows:\n",
      " X: The number is correct and in the correct position\n",
      " O: The number is correct but in the wrong position\n",
      " Blank: The number is incorrect\n",
      " Good Luck!\n",
      "\n",
      "['O', 'O', 'O', ' ']\n",
      "Chances left:  9\n",
      "\n",
      "['X', 'O', 'X', ' ']\n",
      "Chances left:  8\n",
      "\n",
      "['X', 'O', 'X', ' ']\n",
      "Chances left:  7\n",
      "\n",
      "Congratulations! You have guessed the password!\n"
     ]
    }
   ],
   "source": [
    "#importing the necessary libraries\n",
    "import numpy as np\n",
    "from numpy import random\n",
    "\n",
    "#defining the password\n",
    "arr = [1,2,3,4,5,6,7,8,9]\n",
    "password = random.permutation(arr) #permutation is used to shuffle the array\n",
    "password = password[5:] #slicing the array\n",
    "password = list(password)\n",
    "\n",
    "#defining the function to get the user input\n",
    "def getinput():    \n",
    "    user = input(\"Please enter 4 numbers to guess the password(without space): \")\n",
    "    user = list(user)\n",
    "    user = list(map(int, user)) #converting the string to integer\n",
    "    return user\n",
    "\n",
    "#Printing the instructions\n",
    "print(\"Welcome to the game of Mastermind!\\n Guess the password to win the game\\n The password is a 4 digit number\\n The numbers are from 1 to 9\\n You have 10 chances to guess the password\\n After each guess you will be given hints\\n The hints are as follows:\\n X: The number is correct and in the correct position\\n O: The number is correct but in the wrong position\\n Blank: The number is incorrect\\n Good Luck!\\n\")\n",
    "\n",
    "#defining the number of chances\n",
    "chances = 10\n",
    "\n",
    "#running the game\n",
    "while chances > 0:\n",
    "    user = getinput()\n",
    "    if user == password:\n",
    "        print(\"Congratulations! You have guessed the password!\")\n",
    "        break\n",
    "    else:\n",
    "        hints = []\n",
    "        for i in range(4):\n",
    "            if user[i] == password[i]:\n",
    "                hints.append(\"X\")\n",
    "            elif user[i] in password:\n",
    "                hints.append(\"O\")\n",
    "            else:\n",
    "                hints.append(\" \")\n",
    "        print(hints)\n",
    "        chances -= 1\n",
    "        print(\"Chances left: \", chances)\n",
    "        print(\"\")\n",
    "if chances == 0:\n",
    "    print(\"You have run out of chances! The password was: \", password)\n"
   ]
  }
 ],
 "metadata": {
  "kernelspec": {
   "display_name": "base",
   "language": "python",
   "name": "python3"
  },
  "language_info": {
   "codemirror_mode": {
    "name": "ipython",
    "version": 3
   },
   "file_extension": ".py",
   "mimetype": "text/x-python",
   "name": "python",
   "nbconvert_exporter": "python",
   "pygments_lexer": "ipython3",
   "version": "3.8.8"
  }
 },
 "nbformat": 4,
 "nbformat_minor": 2
}
