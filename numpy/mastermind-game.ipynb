{
 "cells": [
  {
   "cell_type": "code",
   "execution_count": 2,
   "metadata": {},
   "outputs": [],
   "source": [
    "import numpy as np\n",
    "from numpy import random"
   ]
  },
  {
   "cell_type": "code",
   "execution_count": 12,
   "metadata": {},
   "outputs": [
    {
     "name": "stdout",
     "output_type": "stream",
     "text": [
      "[4 2 5 6 3 1]\n",
      "[5 6 3 1]\n"
     ]
    }
   ],
   "source": [
    "arr = [1,2,3,4,5,6]\n",
    "password = random.permutation(arr) #permutation is used to shuffle the array\n",
    "print(password)\n",
    "password = password[2:] #slicing the array\n",
    "print(password)"
   ]
  },
  {
   "cell_type": "code",
   "execution_count": 13,
   "metadata": {},
   "outputs": [],
   "source": [
    "def getinput():    \n",
    "    user = input(\"Please enter 4 numbers to guess the password(without space): \")\n",
    "    user = list(user)\n",
    "    user = list(map(int, user)) #converting the string to integer\n",
    "    return user"
   ]
  },
  {
   "cell_type": "code",
   "execution_count": 17,
   "metadata": {},
   "outputs": [
    {
     "name": "stdout",
     "output_type": "stream",
     "text": [
      "Welcome to the game of Mastermind!\n",
      "Guess the password to win the game\n",
      "The password is a 4 digit number\n",
      "The numbers are from 1 to 6\n",
      "You have 10 chances to guess the password\n",
      "After each guess you will be given hints\n",
      "The hints are as follows:\n",
      "X: The number is correct and in the correct position\n",
      "O: The number is correct but in the wrong position\n",
      "Blank: The number is incorrect\n",
      "Good Luck!\n",
      "\n",
      "['O', ' ', 'X', ' ']\n",
      "Chances left:  9\n",
      "\n",
      "Congratulations! You have guessed the password!\n"
     ]
    }
   ],
   "source": [
    "print(\"Welcome to the game of Mastermind!\")\n",
    "print(\"Guess the password to win the game\")\n",
    "print(\"The password is a 4 digit number\")\n",
    "print(\"The numbers are from 1 to 6\")\n",
    "print(\"You have 10 chances to guess the password\")\n",
    "print(\"After each guess you will be given hints\")\n",
    "print(\"The hints are as follows:\")\n",
    "print(\"X: The number is correct and in the correct position\")\n",
    "print(\"O: The number is correct but in the wrong position\")\n",
    "print(\"Blank: The number is incorrect\")\n",
    "print(\"Good Luck!\")\n",
    "print(\"\")\n",
    "password = list(password)\n",
    "chances = 10\n",
    "while chances > 0:\n",
    "    user = getinput()\n",
    "    if user == password:\n",
    "        print(\"Congratulations! You have guessed the password!\")\n",
    "        break\n",
    "    else:\n",
    "        hints = []\n",
    "        for i in range(4):\n",
    "            if user[i] == password[i]:\n",
    "                hints.append(\"X\")\n",
    "            elif user[i] in password:\n",
    "                hints.append(\"O\")\n",
    "            else:\n",
    "                hints.append(\" \")\n",
    "        print(hints)\n",
    "        chances -= 1\n",
    "        print(\"Chances left: \", chances)\n",
    "        print(\"\")\n",
    "if chances == 0:\n",
    "    print(\"You have run out of chances! The password was: \", password)\n"
   ]
  }
 ],
 "metadata": {
  "kernelspec": {
   "display_name": "base",
   "language": "python",
   "name": "python3"
  },
  "language_info": {
   "codemirror_mode": {
    "name": "ipython",
    "version": 3
   },
   "file_extension": ".py",
   "mimetype": "text/x-python",
   "name": "python",
   "nbconvert_exporter": "python",
   "pygments_lexer": "ipython3",
   "version": "3.8.8"
  }
 },
 "nbformat": 4,
 "nbformat_minor": 2
}
